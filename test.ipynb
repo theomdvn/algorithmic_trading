{
 "cells": [
  {
   "cell_type": "code",
   "execution_count": 1,
   "metadata": {},
   "outputs": [
    {
     "name": "stdout",
     "output_type": "stream",
     "text": [
      "Requirement already satisfied: ccxt in c:\\users\\user\\appdata\\local\\packages\\pythonsoftwarefoundation.python.3.9_qbz5n2kfra8p0\\localcache\\local-packages\\python39\\site-packages (2.0.25)\n",
      "Requirement already satisfied: setuptools>=60.9.0 in c:\\users\\user\\appdata\\local\\packages\\pythonsoftwarefoundation.python.3.9_qbz5n2kfra8p0\\localcache\\local-packages\\python39\\site-packages (from ccxt) (65.5.0)\n",
      "Requirement already satisfied: certifi>=2018.1.18 in c:\\users\\user\\appdata\\local\\packages\\pythonsoftwarefoundation.python.3.9_qbz5n2kfra8p0\\localcache\\local-packages\\python39\\site-packages (from ccxt) (2021.10.8)\n",
      "Requirement already satisfied: requests>=2.18.4 in c:\\users\\user\\appdata\\local\\packages\\pythonsoftwarefoundation.python.3.9_qbz5n2kfra8p0\\localcache\\local-packages\\python39\\site-packages (from ccxt) (2.27.1)\n",
      "Requirement already satisfied: cryptography>=2.6.1 in c:\\users\\user\\appdata\\local\\packages\\pythonsoftwarefoundation.python.3.9_qbz5n2kfra8p0\\localcache\\local-packages\\python39\\site-packages (from ccxt) (36.0.1)\n",
      "Requirement already satisfied: aiohttp>=3.8 in c:\\users\\user\\appdata\\local\\packages\\pythonsoftwarefoundation.python.3.9_qbz5n2kfra8p0\\localcache\\local-packages\\python39\\site-packages (from ccxt) (3.8.1)\n",
      "Requirement already satisfied: aiodns>=1.1.1 in c:\\users\\user\\appdata\\local\\packages\\pythonsoftwarefoundation.python.3.9_qbz5n2kfra8p0\\localcache\\local-packages\\python39\\site-packages (from ccxt) (3.0.0)\n",
      "Requirement already satisfied: yarl>=1.7.2 in c:\\users\\user\\appdata\\local\\packages\\pythonsoftwarefoundation.python.3.9_qbz5n2kfra8p0\\localcache\\local-packages\\python39\\site-packages (from ccxt) (1.7.2)\n",
      "Requirement already satisfied: pycares>=4.0.0 in c:\\users\\user\\appdata\\local\\packages\\pythonsoftwarefoundation.python.3.9_qbz5n2kfra8p0\\localcache\\local-packages\\python39\\site-packages (from aiodns>=1.1.1->ccxt) (4.2.2)\n",
      "Requirement already satisfied: attrs>=17.3.0 in c:\\users\\user\\appdata\\local\\packages\\pythonsoftwarefoundation.python.3.9_qbz5n2kfra8p0\\localcache\\local-packages\\python39\\site-packages (from aiohttp>=3.8->ccxt) (21.4.0)\n",
      "Requirement already satisfied: charset-normalizer<3.0,>=2.0 in c:\\users\\user\\appdata\\local\\packages\\pythonsoftwarefoundation.python.3.9_qbz5n2kfra8p0\\localcache\\local-packages\\python39\\site-packages (from aiohttp>=3.8->ccxt) (2.0.10)\n",
      "Requirement already satisfied: multidict<7.0,>=4.5 in c:\\users\\user\\appdata\\local\\packages\\pythonsoftwarefoundation.python.3.9_qbz5n2kfra8p0\\localcache\\local-packages\\python39\\site-packages (from aiohttp>=3.8->ccxt) (6.0.2)\n",
      "Requirement already satisfied: async-timeout<5.0,>=4.0.0a3 in c:\\users\\user\\appdata\\local\\packages\\pythonsoftwarefoundation.python.3.9_qbz5n2kfra8p0\\localcache\\local-packages\\python39\\site-packages (from aiohttp>=3.8->ccxt) (4.0.2)\n",
      "Requirement already satisfied: frozenlist>=1.1.1 in c:\\users\\user\\appdata\\local\\packages\\pythonsoftwarefoundation.python.3.9_qbz5n2kfra8p0\\localcache\\local-packages\\python39\\site-packages (from aiohttp>=3.8->ccxt) (1.3.0)\n",
      "Requirement already satisfied: aiosignal>=1.1.2 in c:\\users\\user\\appdata\\local\\packages\\pythonsoftwarefoundation.python.3.9_qbz5n2kfra8p0\\localcache\\local-packages\\python39\\site-packages (from aiohttp>=3.8->ccxt) (1.2.0)\n",
      "Requirement already satisfied: cffi>=1.12 in c:\\users\\user\\appdata\\local\\packages\\pythonsoftwarefoundation.python.3.9_qbz5n2kfra8p0\\localcache\\local-packages\\python39\\site-packages (from cryptography>=2.6.1->ccxt) (1.15.0)\n",
      "Requirement already satisfied: urllib3<1.27,>=1.21.1 in c:\\users\\user\\appdata\\local\\packages\\pythonsoftwarefoundation.python.3.9_qbz5n2kfra8p0\\localcache\\local-packages\\python39\\site-packages (from requests>=2.18.4->ccxt) (1.26.8)\n",
      "Requirement already satisfied: idna<4,>=2.5 in c:\\users\\user\\appdata\\local\\packages\\pythonsoftwarefoundation.python.3.9_qbz5n2kfra8p0\\localcache\\local-packages\\python39\\site-packages (from requests>=2.18.4->ccxt) (3.3)\n",
      "Requirement already satisfied: pycparser in c:\\users\\user\\appdata\\local\\packages\\pythonsoftwarefoundation.python.3.9_qbz5n2kfra8p0\\localcache\\local-packages\\python39\\site-packages (from cffi>=1.12->cryptography>=2.6.1->ccxt) (2.21)\n"
     ]
    }
   ],
   "source": [
    "!pip install ccxt"
   ]
  },
  {
   "cell_type": "code",
   "execution_count": null,
   "metadata": {},
   "outputs": [],
   "source": [
    "import ccxt\n",
    "\n",
    "def place_order(symbol, size, entry_price, take_profit, stop_loss):\n",
    "    \"\"\"\n",
    "    Places a limit order on Binance and sets a take profit and stop loss.\n",
    "    \n",
    "    Parameters:\n",
    "    symbol (str): The trading pair symbol, e.g., 'BTC/USDT'.\n",
    "    size (float): The order size in quote currency.\n",
    "    entry_price (float): The price at which to enter the trade.\n",
    "    take_profit (float): The take profit price.\n",
    "    stop_loss (float): The stop loss price.\n",
    "    \"\"\"\n",
    "\n",
    "    # Initialize Binance API\n",
    "    binance = ccxt.binance({\n",
    "        'apiKey': 'YOUR_API_KEY',\n",
    "        'secret': 'YOUR_API_SECRET',\n",
    "    })\n",
    "\n",
    "    # Check if futures trading is enabled\n",
    "    if not binance.fapiPrivate_post_leverage({\n",
    "        'symbol': binance.market_id(symbol),\n",
    "        'leverage': 20\n",
    "    }):\n",
    "        print('Futures trading is not enabled.')\n",
    "        return\n",
    "\n",
    "    # Place a limit order\n",
    "    order = binance.create_order(\n",
    "        symbol=symbol,\n",
    "        type='limit',\n",
    "        side='buy',\n",
    "        amount=size,\n",
    "        price=entry_price,\n",
    "    )\n",
    "\n",
    "    # Get the order ID\n",
    "    order_id = order['id']\n",
    "\n",
    "    # Set the take profit and stop loss\n",
    "    params = {\n",
    "        'stopPrice': str(stop_loss),\n",
    "        'price': str(take_profit),\n",
    "    }\n",
    "\n",
    "    # Place a take profit order\n",
    "    binance.create_order(\n",
    "        symbol=symbol,\n",
    "        type='TAKE_PROFIT_LIMIT',\n",
    "        side='sell',\n",
    "        amount=size,\n",
    "        price=take_profit,\n",
    "        params=params,\n",
    "    )\n",
    "\n",
    "    # Place a stop loss order\n",
    "    binance.create_order(\n",
    "        symbol=symbol,\n",
    "        type='STOP_LOSS_LIMIT',\n",
    "        side='sell',\n",
    "        amount=size,\n",
    "        price=stop_loss,\n",
    "        params=params,\n",
    "    )\n",
    "\n",
    "    print(f'Order placed with ID {order_id}.')\n"
   ]
  }
 ],
 "metadata": {
  "kernelspec": {
   "display_name": "Python 3",
   "language": "python",
   "name": "python3"
  },
  "language_info": {
   "codemirror_mode": {
    "name": "ipython",
    "version": 3
   },
   "file_extension": ".py",
   "mimetype": "text/x-python",
   "name": "python",
   "nbconvert_exporter": "python",
   "pygments_lexer": "ipython3",
   "version": "3.9.13"
  },
  "orig_nbformat": 4
 },
 "nbformat": 4,
 "nbformat_minor": 2
}
